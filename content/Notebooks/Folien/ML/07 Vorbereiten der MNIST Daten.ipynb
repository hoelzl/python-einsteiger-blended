{
 "cells": [
  {
   "cell_type": "markdown",
   "id": "2f40066bdc0b73c6",
   "metadata": {
    "lang": "de",
    "slideshow": {
     "slide_type": "slide"
    },
    "tags": [
     "slide"
    ]
   },
   "source": [
    "\n",
    "<img src=\"data:image/png;base64,iVBORw0KGgoAAAANSUhEUgAAAG8AAABuCAYAAAApmU3FAAAEtmlUWHRYTUw6Y29tLmFkb2JlLnht\n",
    "cAAAAAAAPD94cGFja2V0IGJlZ2luPSLvu78iIGlkPSJXNU0wTXBDZWhpSHpyZVN6TlRjemtjOWQi\n",
    "Pz4KPHg6eG1wbWV0YSB4bWxuczp4PSJhZG9iZTpuczptZXRhLyIgeDp4bXB0az0iWE1QIENvcmUg\n",
    "NS41LjAiPgogPHJkZjpSREYgeG1sbnM6cmRmPSJodHRwOi8vd3d3LnczLm9yZy8xOTk5LzAyLzIy\n",
    "LXJkZi1zeW50YXgtbnMjIj4KICA8cmRmOkRlc2NyaXB0aW9uIHJkZjphYm91dD0iIgogICAgeG1s\n",
    "bnM6ZXhpZj0iaHR0cDovL25zLmFkb2JlLmNvbS9leGlmLzEuMC8iCiAgICB4bWxuczp0aWZmPSJo\n",
    "dHRwOi8vbnMuYWRvYmUuY29tL3RpZmYvMS4wLyIKICAgIHhtbG5zOnBob3Rvc2hvcD0iaHR0cDov\n",
    "L25zLmFkb2JlLmNvbS9waG90b3Nob3AvMS4wLyIKICAgIHhtbG5zOnhtcD0iaHR0cDovL25zLmFk\n",
    "b2JlLmNvbS94YXAvMS4wLyIKICAgIHhtbG5zOnhtcE1NPSJodHRwOi8vbnMuYWRvYmUuY29tL3hh\n",
    "cC8xLjAvbW0vIgogICAgeG1sbnM6c3RFdnQ9Imh0dHA6Ly9ucy5hZG9iZS5jb20veGFwLzEuMC9z\n",
    "VHlwZS9SZXNvdXJjZUV2ZW50IyIKICAgZXhpZjpQaXhlbFhEaW1lbnNpb249IjExMSIKICAgZXhp\n",
    "ZjpQaXhlbFlEaW1lbnNpb249IjExMCIKICAgZXhpZjpDb2xvclNwYWNlPSIxIgogICB0aWZmOklt\n",
    "YWdlV2lkdGg9IjExMSIKICAgdGlmZjpJbWFnZUxlbmd0aD0iMTEwIgogICB0aWZmOlJlc29sdXRp\n",
    "b25Vbml0PSIyIgogICB0aWZmOlhSZXNvbHV0aW9uPSI3Mi4wIgogICB0aWZmOllSZXNvbHV0aW9u\n",
    "PSI3Mi4wIgogICBwaG90b3Nob3A6Q29sb3JNb2RlPSIzIgogICBwaG90b3Nob3A6SUNDUHJvZmls\n",
    "ZT0ic1JHQiBJRUM2MTk2Ni0yLjEiCiAgIHhtcDpNb2RpZnlEYXRlPSIyMDIwLTAyLTEzVDE2OjQ4\n",
    "OjM2KzAxOjAwIgogICB4bXA6TWV0YWRhdGFEYXRlPSIyMDIwLTAyLTEzVDE2OjQ4OjM2KzAxOjAw\n",
    "Ij4KICAgPHhtcE1NOkhpc3Rvcnk+CiAgICA8cmRmOlNlcT4KICAgICA8cmRmOmxpCiAgICAgIHN0\n",
    "RXZ0OmFjdGlvbj0icHJvZHVjZWQiCiAgICAgIHN0RXZ0OnNvZnR3YXJlQWdlbnQ9IkFmZmluaXR5\n",
    "IERlc2lnbmVyIDEuNy4zIgogICAgICBzdEV2dDp3aGVuPSIyMDIwLTAyLTEzVDE2OjQ4OjM2KzAx\n",
    "OjAwIi8+CiAgICA8L3JkZjpTZXE+CiAgIDwveG1wTU06SGlzdG9yeT4KICA8L3JkZjpEZXNjcmlw\n",
    "dGlvbj4KIDwvcmRmOlJERj4KPC94OnhtcG1ldGE+Cjw/eHBhY2tldCBlbmQ9InIiPz63ZYCCAAAB\n",
    "gWlDQ1BzUkdCIElFQzYxOTY2LTIuMQAAKJF1kc8rRFEUxz9miDCNYmFh8dKwQoMSG4uZ/Cosxii/\n",
    "Nm+eeTNq3szrvZk02SpbRYmNXwv+ArbKWikiJSsLa2KDnvM8NZI5t3PP537vPad7zwVfPKMZdmUY\n",
    "jGzeio1ElJnZOaX6ER8BgoQJqJptTkwNxylrbzdUuPGq061V/ty/VreYtDWoqBEe1EwrLzwqPL6c\n",
    "N13eFG7S0uqi8LFwhyUXFL529YTHTy6nPP5w2YrHouBrEFZSvzjxi7W0ZQjLywkZmYL2cx/3JfXJ\n",
    "7PSUxFbxFmxijBBBYYwhovTRzYDMfXTSQ5esKJMf/s6fJCe5mswmRSyWSJEmT4eoBamelKiLnpSR\n",
    "oej2/29fbb23x6teH4GqB8d5aYPqDfhcd5z3fcf5PAD/PZxlS/m5Peh/FX29pIV2IbgKJ+clLbEF\n",
    "p2vQfGeqlvot+cV9ug7PRxCYhcZLqJ33evazz+EtxFfkqy5gewfa5Xxw4QtXymffaj9hFAAAAAlw\n",
    "SFlzAAALEwAACxMBAJqcGAAAIABJREFUeJzlfXu0b1V13jfX/l2UkAAXiq/EWkg0RqUaBO5BEB+A\n",
    "WKtG6qtWeZnRtCYmgThUvJfRdDQOBAtc2mSEGJuhJn2oNcPwGFZSgmmAG84JAgKS4QPIQ2OVIgIR\n",
    "kbP3mv1jrW+ub+177uUROIfENca5557923vttefzm4+1f4a/R2PpfX+wCfB/6o4XmuHpDuwDYG94\n",
    "3gfue8PSPoDXY74PAAPsO4DfBeAuuH8HwF0wuwue7wLwHbjfCUvXA37j8gfflDfy+R7usI1ewK7G\n",
    "0taLDDYcDM+HAX4oYIcC+WA4ngAA7hPMBgAOdwBe6W78fwLgdTYHcgZMH9fkcwDu9wC+A+5XAX4l\n",
    "HCvL5/2r+x/r5/y7jMcd85a2XbwZ7qcC+LcAngnPgA0AMjxnmBWmuDvgXp7AEpAn8HEsJXge42+4\n",
    "F4bWa8v59XOzem0dZuV4Hh+ApRUAvwXg48vnvkVOenyMxw3zlrZd/NNw/BLS8GZ43hNAIao1BrhP\n",
    "hfAuGgPv/7bUtJDHybjQSqsM9TI/f8OLMpoV5lpo71fhfjaA310+762rjx0VHt7YcOYtbb14APw/\n",
    "AHYG4Ina4NMIS9Q4B+AwS4WBYRKt0p4MyeUnLapmoTGHn9NUUlvNeoZ3x0RjPQPufwXg/cvnv+3D\n",
    "60qkXYwNZd7Stkuejjz9D6ThyJD+PAFpCLPmnmFpUc1gHe5ACoIKgyB/k1FJTKM3xtJ02tBrKjUw\n",
    "tDNXjfV2rk8fhg0/v3z+22RR6z82jHlL2y55CoDrAH8qcg/y3Au4MBt2YlrxZ5XBXnygT+MMjPjO\n",
    "ZnH+GdD8GzXWrAKbVE8VkFNQEYJkZp+F+xuXz3/b3z5qRHmYY0OYt7T1ogFp+CPk6SWFeFMjWIwC\n",
    "Skx8XPkbDazU84KwlprWzU1lZxpz0dz4HLO50LRVGRpgZrX8TmkF03Tk8gUnb4gGzim2PsPSL8Hz\n",
    "S4pvQTFl1gjpOQOwWw32e3D/IOB/6PD7GuKk9Nd/lPHho1zCh6F95t4+h/faFXPItY6i5TzXpzKf\n",
    "GTCtHg7kdz0WJHooY4M07+IvwfCsnTSgEPT7gJ0J+PnXfOCEUIstZ/z+QfD8EcCODlNIwpMRadH+\n",
    "n6uvUpNM9NihTAkbwr+hHR8W5bjOE/cbAM/fA9LBy9tPvPWxp1w/1l3zls689KcAPKuBAxS/FmbQ\n",
    "zrjmA687VxkHAMtnv/42IP0zAF+J2DotGrRPi+a7GL8V0ybocaomcyi/PUtIgP4ar2FdzsA0NoZb\n",
    "qnOGOd8Tnn/lMSTZLsf6m808Pa1QvHIgZ1g1AA6/BZb+064uXT7n9ffB/Vfi+jw1rXA035THerwy\n",
    "K5AoKuMkflQtpp9k0E4/aalqoBemamhS5njto0ylhzTWn3nue9e0SDsEr+gyXXnNWa/1XV8MwOxK\n",
    "5MnDjwFNU+bprzTIMQ0hNPbj6akxK9bnTStpHQInTW2ePP7YltM++pOPiB5/h7H+zFNixqGB0P7r\n",
    "D3b58jlvuBuGv21xW2rapXDeJ0l7iX8LBlHbqKFjM5VqGTT/GdfIOQ3wbH5kBHnkYyM0L6TbyYD2\n",
    "4Qse7PIt7/mfB8GGHwngEUBCgErn9/gZ/5uFSWjnpEHSYdbmVpNr1pAnNd8oPHmvh0WHR2FsgOYl\n",
    "78ICAD6twvMq3P2YLe/91NN2P4Gf2IJqAQ5e0WZ3qve/89SHCpGoBpoPo7kU5jOjA2tpNxfGlucS\n",
    "O74+YwM0L7vnqeUjCenLUvaBpd9Zet+nn7DWpVve+6kluG9rlQY0eM+Umqmv85YWAyT1RWZULVNf\n",
    "F0E7E9XU6LGZyC75zZBk/YsOiwc/5VEelqqgGzyPsKH4O28EeKXDPr/lvZ86HcCO5XPe8N0t7/nk\n",
    "gYCfBPdtSMOmIKrGekDlUZ5pHHOSqiVDQ6oMDyLXSbSp9b6aI63rLxUOF3xkcKx/HXfdmec+eanM\n",
    "5JK7nCTOipPwXAB/CEt5y3s+eS8s7dOZyqzpNEkYIwMZDcQwpZXrZ/Rb02rVzkFCi6mFEWloZjUL\n",
    "uDEAuRy3xDiPHFz/fMeGABavIMMJ77uaGhoC9Jxqa0Pzb6yIa+qr0yoBIG0elOpCnZtZE0B8GEow\n",
    "DrRrVDOT3CeY5pJEX39Srvsdzcwh5ibCBE1XdflGia20YFoub+dS0wL+s56X+nlMtDLCCxEGZZiW\n",
    "hSRn6vF3ERCnP1znse7Mcy+9C5TUIEQgwrFnQjkLkdmofStdgB3aKNobGj37LO4nzCK6JIiJFFgV\n",
    "FmpdvcYkK2NpKBmieXJ7HcYGmM2pl9ZgkPgoVhriGgnC5y0Olsq10aOC5hej4sCAWq5vGeimpXls\n",
    "xVqGFU7EWgcjAiuFYneHw2vMur5jA0pC5s1PqUZQuxRF1thK+1aiilCD7TxJ2CDEZqI6j81carmo\n",
    "TIZoYAKkKmFtroj35uZVwQpm/1+fsQGhgt0F+EoLkGexVaC+DJiEBABCe9pkaFpnpUhqYu48HwBL\n",
    "B3btFWFGJTfJtczBEOF/lK5QUHIaaqhg1exjQ3zeujNv+ezX7wCwZT3uteVd//3nkFc/1CHNAC1j\n",
    "0zr1i+5NeCAJ7yo0BgNbED2P5TfyRijeBlXS12uwvcIgOc+ZSQaaKaU/Y1amlXzanEY5GMWkAj8Y\n",
    "ZnM9R2vZqwckrUWTnTMwbEIgWogZlbjOvSYVKsii6fRJTXU9/Uuv2gTg2e2AmHqa4HLsfqT0NfvJ\n",
    "z3zvkTzeI2be0taL/gmAFwD4EcD38pz3CB8QNbBqTtT5R85Q4qkOtksdTf2Ipq26Vr00+5znJ8Dz\n",
    "i5qpBKKaEAG/oEzXBHWZ130M80gNNjcgLcpzaryow+zpyPnGFn9KImKo2j1NwUS/5fhvYpo+gyH9\n",
    "N6T0OXv2Zx+SA31YzFvadslzkafTYDjO8/QMmDVj0bXIsebFzEaF85GqYkklz9oQagzHdJYy2q0x\n",
    "wazMC0k6M/Ofs/ipSoMk3oHCFOkzHuzDDc+rpVBAgJInwAWgUHNZlVBBIzN530kySWPtPOMYRwB4\n",
    "MobhVOR8Kgxf8FuO/1l7zmWffzB+PCTmLW296KcA/Cry+EZ3T5Y2ITqVE3srrVTEA9ExgwE0xqnk\n",
    "A/DKAEWTXe1NiqkkUszhHbEjRLCESDzrCHOVmxWIuayhyDzV7rRZ0M/1dTW/mWWY34u1Rs0WJUky\n",
    "hPmsP0Xgng9g2W865gKkdKY993/vcrPLgwKWpW2XnAazm+H+ZqRFsnkPiDNRO7RUF9vRI+huaC0W\n",
    "O60CzhhsjQxFxFGM8yDxWDU9adGIaJU48WQsrgoTtOJe40P2gFptKrKUyrF54G1SPO7mUZ/Ke6fW\n",
    "tMTPh6Ektdlvw2ec6ArQaJB9APAumH3Cbz52l3XC3TJvaetF5wDYDs8p6mXOHTq5Pmiu8HmqWZOp\n",
    "ma2utQBlkWmoi2fCl5IM0VhJWelxDs1fMl6DVWZWjexKPgI+wtQVs12sKBkx1tuKH2Uuk+uf+1lp\n",
    "pIoRjVAtPsS4Kv5fsMBClGGamvkv87wW7h/aFX/WNJtLWy9eAPnDMDslNElQGptenf6LD2KMjypx\n",
    "tR1PC6gBSKb2kNTSaSzoL1Jn1KxZlgVDIcA0NkKQwMEsxmqV4SRK5EfJoLKZxYZF067a09btTCKo\n",
    "0awQ5LY6VGiGoWlgqpYkz0KRaSqfASJ0BsB/1r/wsm/a8z+3bc6ntTXP0llAOqXFRnG8oLA8VdNS\n",
    "Vh3mJczpPL1Ua2eay9SgmAum1NHkkNH0ozQt0XPJuI0mVh6c9yUz6V+8AhptgIo8p7d1eC4+XEtO\n",
    "XaUjt7/Dt5Oq2maB8jyhmXIvjhAKNFNKC1TQ6lb/wste+qDMW9p26cHw6fQwWyGZU0VcxVx2N2cQ\n",
    "PG/0mZswhda6BYvt7juVdupc02qbs0tAo80BZaBIddTrhGA2NEJV0112IjUA07RNLEeUoxTQ9DFe\n",
    "WS/jxWo1hmrgOsBEoAVhNh8jiaYygZB+bbfMW9p2scHzhQAWXFTEbZVAJZMucVkEwd7MU0dINGaE\n",
    "mVMgUn0XyyoEHurjorIdpgTR/cw+mLgZeq1QjYxTKqGs7PcrlkRQL58nykv1+V3vMbVzZ7ucwqpM\n",
    "UzmdoYIKb3QQzEDPsEYpqtDiKL/5uFfuknlwfzs8H9mYUbuZxdwZWwd0oXyIIK7U4whcaMLU9HRz\n",
    "eDOjMZcjup6VgXwgvQcRZAT6aASJ0hAJS186iSZhdo6uR4QjGKv+G3IO+nZ4Pi5Nfao0YDVfa4cE\n",
    "LDxOS8C5p/H9azJvaetF+8HzOVGnmka0doXysNwPHg+VhjUemGiTU1szF3NU2ZlVl9jMW0tCwOc6\n",
    "r2p7hAre5gsi8wmHdj4tQzAacg1ijYY1BDJMKoShJmHL0Cbi/MmaeeZzMDTIUwUt1LihziXuIwlj\n",
    "i+97oX/hZSfsxDwAr0da7A+vm/bVRDWSCFDxtkitXishwyyuUadTgpJwFIaYYwZCyCyb/9Asz7Sb\n",
    "Bd9KYBZPkYYGGQQYmACyZjabiQ2hCCwgXdl5ujMIRUtBk06XQS0jIEvCKPrJCOyBTvsbuj1pDebZ\n",
    "axRVlcfPwazYE6caFLtW6cBpwggWZoleMoeL73wTmu0PM6rVcGEGGRuwXvxuWIYJGDbB81iSx1Uo\n",
    "zQzclWRm8Vw2LJRATUs7nyrWJExvmNK2xcvQC2wgXQfGSTatCA1oNlF9ZeVD0GQKIXmpX390itVs\n",
    "ed+n9wT8WBLLp7FpWP3tObfEcOcjKqHClXlPhDhXfGcSUxupJjEt4QuGZi41YzNvoaD5oykXrbe0\n",
    "6PKv7r2AEJC1JAN9GgVKgImJC6BFKWu6a+U3f+HuYJ7jhxroIAPQJ+qDJmjAJqWegdPUBIfmMw37\n",
    "AnaIitIxAPYMems3sRJZQYQGw47mo8BFUmMk2CYzuz0ALueiI3znc9RfMfaKdjxv6xO/2e2FMPRz\n",
    "1vCnnKoMErChg3Nr7MvKhPtt/cnYjNnlSAnYJD6a9NAYOdamzEqx3qAP8HKgMe81ZS0JDm/pIfqP\n",
    "eWNsgAPmLtE+VyDCDAcJQyIGQqsPEYlqMUXA7CFl9yofQs1y+EoLKbeaj6Rv8067lbo0+anN26Fe\n",
    "yO96r7SogGIA4F/pGOX5yQ0zoAnjRDch1omt+cMafaH8m0E7Ndi9MG9p60UGz6/2PNYgvEqsEpSp\n",
    "LDJTt0JRGud+kAuIWlldTCR1yUlv53BOoAGhPJZjBACRlSdjUyM2rwPi/OLnNOCmkJBpMxVRJmpI\n",
    "MNV10OfHtjAHHB/tJ7FDIpaLa9GupwmdRrFimIVD4mLCDdWflI7y64/elAAcbGnT07pMAaVOW73Z\n",
    "EtehTTWHEJ8DMWEm51eNC5RIAqqJFOK6EI+f5zESyEHI3cRlDMDL+1x0syUagTSeUs1IA0pTkyLa\n",
    "qlFtrdevXPgLl80E4NAODSexPjS7QwVvAzu7s1gSQdFAu74h2L3gfngC8AyP+MmDwxEuKEgwiZnI\n",
    "oFhY7n9Dru2y8MLIebqL85LIEdPVefOIYqqHnshdeGJ9bFeRqWkIQI2nCeR6w0QrwJgxrSsLATA7\n",
    "u+PbLcfvA7MXt8Ba/CkZMQzSWs+YlWkwEX5eT6aPYwM9ln5iAfcnGayP39Ls5TV8OB8BWwBWzUaH\n",
    "nOjkO6kUTSDQQBAUruhtQlTd1ZSF7xDtjHQa47oGcFwyQy6C4socCkggOfU3uS8ok9nRgsF1AnC/\n",
    "Co5PdWTK+U0wPHEnwEJGKWPU6hDkaSot3mihvjeu2y+55wN6U5b6XJ0iHfo++sQOneXGJI3/mAmx\n",
    "AQ3V5fZDn8bqt27yiLixmkma6nnch5pvZes56muvQivFZ3DNaiki1qoE5prYOa2Zm2YlbgDw6pUL\n",
    "3ynEAmB2SnM3aDSdB9vamhHgSxirrznRYyzowvZPgD/JmeDtHnbmz8qCZwxV/8HfDGylKKsxEc3g\n",
    "fN4u3yemMF4nlXsiaPAPlEqH50qvYq7DelDbg2FTM8XhRyqj0tBnepJaAoIGfBnA8SsXvrPFdgD8\n",
    "pmNOgOFFYDhkQhemuvi8I4W2Mneeu233apoIIbn7fgnuB4APTM1R6Qy4LhNxMRGDCfoLPyPMzFPf\n",
    "rxEmgMldQaJdloMIsoYc1VRHpcPLG5FomlvFm+ZbQBj3IYRGpGYeO8FySV/NUnSwDPffgOfDVi58\n",
    "57c6xt1y/N5I6deDaewYMDT/FiBQ6McffemPXk9hXXDtwdj9F7DhgCKxRIaE/VRXJaS3vF0XB1VH\n",
    "qy8oXdPUKKiRRQdA8fbAZs2UpiTINcGqz/W4m9ellDY9r1UNs6H4QEW1FJBAyxA0twnRbq9pwPJW\n",
    "ps/B/d+tXPjOP8NaI+f/iGQ/iuw1IS0WbBiKpnVIl5ZlRKcsVgVrHAvDXOitRemU9l8grz6ptB2o\n",
    "TxATGnvGrRJWu4plIT5jfqOsCINoH48HoYTp80KofqadyqGB3PJn3Y8Hg6g9VZvYHjgfLn7H7Btw\n",
    "fAbApUC6fOXCd6z5dj//4nEJjv8M+M9h8mak4vmtCUxknKgIEkrlXJjOdghqIbCz0PsEjHm/BVLR\n",
    "vI6ovtODtGNm4NbeLh5TbmlGJgCQmGMtnoapSwCQYelr8PwXgN0Oz7fD7K8Af6CthUAJMNkn7gGk\n",
    "ir+1oXaGdY7HKbVNSLUoCn8ANvw/AN8A8KWV3/z5uXeeMe4VewD4r0h4Y6EJetPfIdrUEOQglksz\n",
    "TzTnzG+yd5XghY26AJBs/wXcD2iV4txu0nG6SvicYRFbAXBrksZrWVCcB9uxWJqA4Vb4tB2eP7p8\n",
    "wanf3R3BHg/Dv/iKAYZ/AeAMTNMhzS2gPN+waIzScABoTCATeYznpxqGgGCtCoFBqhEZsLRfeYWs\n",
    "2RNCAl1UOfyeMqT+bUCX0KW50tTaTv8XiSztENfBcBZ8+vTy9pN7yP04HP7F4/aCpVORp9PhdlAD\n",
    "EIqIKw0m8Z0BSmoBNlnNsFifOovwoTJ8IUKgKLT8f7GApW8jT3t1BVTaVUV+mrkgpI662moDFVrR\n",
    "ZjosNLf6xDwBw/AJ5Omk5e0nP7Bbgt36WoPj2UjpqQD+Edw3qa8Ln7xYAKurAqYaIu2C/m5y75+R\n",
    "xwAgT3vA7BmwdCA8HwjgQLg/Dcy0s0o+DDWwJt1nYEVjNEuAMVTKxVrRtC4WBaRELnMWMpDp4bL8\n",
    "jgXc7wTs6bH4OVzv8p2KzrwRJikqym3xSowIrg2A/wbcf3lX2ua3n/DDcH8F3P85gFdhSE9ppRNF\n",
    "sYKIV1clTuR5NF1o66af0fgt1wLpODYm0DoshkJI+u089oRG1SICuoiXp1Y1j1dEyr1ppZgO0zQa\n",
    "aa3YgoicG04Ndyxg9u0mhYKGIoshMVDEdSSIossZKtQ4K2fV2g8tX3DKL67JtNtedxhS+jXk/DJ4\n",
    "3iPMM32Hmhb2oOi7U0ZaAAVSQORgdcOH1hR5zWJRN4IAARY4ZwgKWpYj6AW00EJACIWAvmwcWwMu\n",
    "QwKuTWNb3oda7UJfPlv2b1XNkws7rRHg0pkXQXHsPiYRyVQyXetw7l+DpXfvxLTbT9gHwFkoX4RR\n",
    "uBPhgtwvbsv1oPkM9oOQoMq8ObKLG3tjqhKGWhfPVCV+FLRHLaegJ12P9UIUAizaxmegxiUqhstn\n",
    "uc3lst7yHHcsANxZ8o6y6aNDSJVBXfZCCShmkk45pcKDQJxBzF9cvuDke2eMezLMrgTwzK5NgPPx\n",
    "4RYJmBxRP9xUY9Ms4QnkWhKN/khNJC1EEFilXyxLlzRGAxqrouFRRKXgcK6ZBSsLateR2fVwFFwZ\n",
    "zpBRhvLcerwo0h0LAN8ugEO+SEIz+J2ZRNOmSOmkoEVZHOcRphe/tGP5gpP/oGPcrT+zL+CXwf2Z\n",
    "gUJpWiiB9K9Tbg8ENLMXcafJGivT1io30UcpWOEPG4KzfGbWgMJ8h5TGcXm2PiL30LrKtGkqjbWj\n",
    "Jjkga8lFq8kwVt/p64Pu9q0En+4MBjHumL8ag1II1NZzmjCaqGpC9c14ob0RoH+kY9xtrxswDJdi\n",
    "ys+PhyUImGfY1VxqtkQDYK41KumpgQEOJocJyghCumNimgIhVwZyz0HkQ2XOiJUpUFPzjWRaZLFQ\n",
    "zaSXOQZZv5pOBTkqbFXzElABC9M1hgL9g8piOkmAcN6cXJtnNBasmgi7HzZ8sqck3oBpPLKLIwfZ\n",
    "vcNANsydEHyetVDfxnP1Nz9T4k/in6PBNzXfM69+Z0oQL7PGFGZEGLsF4+u5C/nqAQbwleQlkSLm\n",
    "VTW1s25MkjgTH99K8PzVDmzk3BjVDXX+ufkeGOLteZGzEwRaNPZPlrefeM9swjM6BpBZ08xEa72N\n",
    "95//n0HxnFkkRgfRhSGGHq6vFRMGgEDTyHk7BURoKEya0spiwsO6uIAs5aS3+QKJkt402QYMw18m\n",
    "pGEZebyvI1j7o03UESv3Gth1JgtYCH/p13b0uO11rwT8BYHq4vz6QLx1wO46V0BsIZzC/W4blyDk\n",
    "WKcgOYIE9enh66oQae1xlFdakVFKM01vxT1TLeUQnHhDnJoLzt7ckJpJ9b2ct1igr9uhV9+Ulj/4\n",
    "plUAV3WZFd0xoxl+QJx6bsejoCmV8ngwA/J0PfpxcixwsakndHBOhaTeN8ykCJKO+JvmGmJWvfdN\n",
    "ASzQGNglJyp9Ax2KT5s34ur9wxx7M6lMKJNJfL7AAxJGwFr2SunY3+9SgDFVnq5oDEqifSqp9WZE\n",
    "f3GMNlhU2oSRAJCG/9stIqVntUR/tfe6NzsyN7UgSUiuplkbc3ZiHnpBMjTwQIZGwL5mSNMj2MUi\n",
    "yBECADQBoECr1lHAIheZm5nk/8NXo6BP0s1zq3bMM15lfZc05qXhisZVgeBRVYDEb/Q3JFqIaCOU\n",
    "nlMWc1fHvDwd1CVdqRV8IKKxCGAZpOaWodCM/NyUdRqUZMuwmOEQPPVR4kuj3ua6T6DXPIKfeHPS\n",
    "fI66lkGEkMdHdo95KGKPgkla702/+31I6Y8a89yvQ/ny22abI7OAtkDd/xYpKzKbN1KmGh8s3vDj\n",
    "t/3MZjj2bcGzEE/TV3QJaq7Y+kaidGhUND0YMglqI9Pq85lJ3CYok9pIN9Jp1Ow3nzPiSgF19OFz\n",
    "v6sKMBc0bUqKBAM/j2sut8N23B/MWz73LRMs/Z82GdC+uUoXK46XQEXjriTZhsiG74TgDmrghLGY\n",
    "iTlSLbKSWxzHpnV8yEmkn0SMPKAAhjnhVCMDLddniFwi56wCM6kJFqao1g5KL2o5BG3Wv8dVRCIc\n",
    "JJUCk1mTMUfskygmM5hXz/5YOFCF13yIMIlomhgtDLwBfYpu/XJ0oUfO+4VvzD5rBec9vQSuSRav\n",
    "64k+FN6mmqbIO3b3Q2icSnI8q65bwoa2A6jXHn6mQhGJ+TrXKAham5LpUuiS3AXMiMCwMVefs8x1\n",
    "Jwy/z0cL5i2f+5ZPw+y64oemxkQ6UWk/6Fr4qDnKxMhs5J0/s2QN+ub2m3NrVVmddWR/rIUF/FsZ\n",
    "qyCmi9vE5ykQYtigoQQ1idLO8yaGRPO38KKh4PkboCZBx/W7bzvUazNTyaGC1hIT77Ety4EfNKgD\n",
    "3M9sNTn1bWhMUCIFKqLHFScf/hPw7utf0AhkqaG6CHB5L5F0EltbCCaZk+uZ5N4hsZAsiAlheJ0w\n",
    "vGNcbhkTNWls7VBfpfGfZlE81xcEKHOsjxk9NxrPn8tFcFK6CrMUY8e85fPe+r/g+erS4azZjdSY\n",
    "GYvNTYIiEW3N7xEYwNF9U4sGoWqidX+CnsuHzlMzR3ywrmXQRYgg73KhZgnxBvF9LGdpBkY1Xv3R\n",
    "HM1Sc8ISiL/TZ1P0Teuim0cIqjQQLzfisRHu77At13Tgode8Ms7s0lGdJnJRs4ckoQn7eWPV0m5Q\n",
    "CFzMjsRt6j+AhiTVVDIpQPMSx/U2FAaa/9yuiWwImhVQwKM51KCWmN7QGAI69BmmoAFmbkPWQlMM\n",
    "VFAmrqrDHNhuW665eUbEnZm3fN5b/xjwDwBoTOs2XpAp9ccnRCcyH2JuuvoAU/yo9egqJJAbSGbS\n",
    "3z1Ybr6QhKT0x1rElFVaYlhIcD2188NyaIoqt/NCKyhg3uI30on5x8izyrwmAqvxnPp0BuYqjO4f\n",
    "AXzrnE9rMg8Als8/cSty/p0OXWljT7xPE+hfj8jPw8ije+kOmaRARcERTIgukqdxnprnTtO8wvCM\n",
    "9ooMa2YptGvs51V/C/Smscs00fzJ/+daT589jwMpH9pOou4jwikTkDQBns+2Lde83ZZW5lu2ds28\n",
    "uuB/A/dLupvoj/rEWCQX1kIOs/JqqI55Qu8ABmqeDU0zgXaPJJoffnBViGZFswiK6HcDHBFooEl4\n",
    "aCzavES2fI400+5AvqjCQBJInMqmJK4hsk2VftpAO8z83jRmpOE0W1p53675sxvmLZ9/4gTPbwL8\n",
    "XHBbTZiuhO6Vv2ivtepeb5jl1VA6KImguRCkN1Vgopn6PBccawxhvEn/BbTYLszXDHIHUhbkGmGD\n",
    "mPqowtc5dN84n4OVDsfOn2lBNWpyMyTNzwvKzAA+jsWm59mWa3b53bkcu33T7fIFp9wP4N1bTv/Y\n",
    "J2DpvyCPz+/MpCR1Tb4lK76MHrLIGBbXtIQ0mlkmTJ/7A/VD04yJg5hQdnsRQDCvyevDp6HPuJDA\n",
    "4wNVe8UsEq3SpLKqDjRzP9hsF2zVWAIwmzFXqxXT9BcwuxzAdjtsxy0PxrSHxDyO5e0nX7vl9N89\n",
    "BEgvhftbAX8VgKdQIt3Lq33L/lMBDRHIayAKRCGSqkImAD3TFDoHEwW0kDGT9L2oBho+gWHYEeBh\n",
    "sWi9MBQSZUDsfvW2VgIJIuMQskWLcRXR8hmAZqYZzxZmOdwfwDR9F8C9SOkGW1r+y4fKMB0P+QXh\n",
    "y9tPygCuqD/YctrHnuh5/DEz7GlW3nhbHrq+PTaXLVaFFvmvu8l0E2UMYRglUomrCDE6r6qTV+bT\n",
    "XBWze4U97/Lffvhk+fsxHvGr+ZcvOPl+AF992Be6l6B+WDTzq8XOMCVjCyOUOdos1OUE0cy4zv0P\n",
    "eOwGbT5GQ512Za/2AAAGk0lEQVR2OO4ZGKH/UShOfxdZixpzAQ3QRIqL6aq5v/2HNdb96fwrr34F\n",
    "3C/baRNI53/q79i5RGbl5gcJRgABQESh4HW3I093xHxd2kv8FNegIQGArg2ReV7W/SLQnmjuT7cX\n",
    "XrXjsaVeP9b/62imsTl7LbQqDGeQ2qW9rOQkycDYl+C9CdXCMXAggAM7eE4NjS1WRM4AWDW3es9x\n",
    "td2b3+MwocVzPSredz3JCGyE2eQGQaBVxiMGm2bmEQ2SR6uhN3PK7mOgbhARwKNF4C6LgYY0x1W5\n",
    "t68RlqDX1s7k13lih5CvuxVbf+Ypk9SfsUJBItGE6WZ65hKZ+1ToD8yakrw3icyBRnNT6lNs9JXU\n",
    "NveyvUtrl5C5w+dKqLDOYwMAC9NT1jSA2580Oa1EjJTS2ALmlErHlTID9Th7JSN88AZgmDXRF5Jq\n",
    "Wajrz0G/b0IFjvFdtGesv+atv8/TLEPEc9REOYd5zAgnagDNrjNDM5nRGzk086iM7zrMpMkpdqJK\n",
    "vbKbU2NRQ7z4lOerSd0A1dsYs6lMYgaCCFELrgos6F/4uZpLVhk08cuhQMhQvy2lfqbfIMJMUNsj\n",
    "cTeGRY4LDW0bFhm32NTuP6/9rcNYf+YBaBCdYEUaf0ikaI+QGhlfREPma8CulXXdr85qNFAB0GpD\n",
    "lgGOohK+imH4VeR8oB161b4YV/fGlI9DnkohNFJh6NdfKgQ/AGZTW/uGRZ/MjRqcNW2wVEQs59q+\n",
    "gIoyB9m0QfOmYCVJrKjZGGvmcKgvIcAEGFZhdrQdcuU1XKkdevV3AVzuf/aiQ5HzRUjp+NB83XK8\n",
    "QWNjMiwVrLXyDNC1FnK/OZFp9t7XAdJdVf+eo1c1qTw/kGdq8yxq/S8N71fGdUs+bMf3AbwdZndj\n",
    "sUkajAQo/UCECu5TfZVHe/goflauRlGTCBGI/dkKSHgNzaXWzroYTyr9+jIAfU2w++/tbtl22I6/\n",
    "wTRd0Xp5INmetCFmcwN8nt/XvZ4wsiJSzQYEkqOdQ7MaxUuaSumvpK/TnpfwaeIvQ+MBwO+1Q/7k\n",
    "9gdfut8Qr9HXtdInr/PYAObZtyNmA1qKS7c/aexGLQlGQNJqEo8FcrWdi6xw6ZWEZEyMgOWH/fqX\n",
    "7P3gS7cf7RLpIWAJbSHrNzbCbH4Znr8evfpEfFrCGdQMQpjkLTaMzIYyCYIy69BOLrO+Z5MhhrvB\n",
    "84t3u+xrj0wAjgqB0op/ue/du7v+sRjrzjx7zmUO2MVdjyT7Q7gnnuYsDe0ryRTSR2c0FKrLXRgC\n",
    "VOSq/nGU6reWobJv9+uO/qFdLtz9l5Hzc7rNpYCGLd94lEn1oGNj4jzDeRiG73WxlrYR6LtTmDCm\n",
    "BmkQP++P0ewJMygEL9oyr2kwCozZMwH/rK8ccZBO6StHJP/8Ue9GSmfvFEMyP+r5S3b4n/75Y0ix\n",
    "Ncf6Z1Pr8D9/5RkYxw/0mxGtT5kB0jAk8eFik/SPiG8EehPLlxPoFuac+1ogEwEAanvgfUjpapjd\n",
    "gGl6KoAjYPbj8ebZiCnRwg/D6ba0csFjRqxdjI1j3s3HLmB2NWCHRygQucO6rD53KIyaSOiIJgKF\n",
    "As3EMl/qKHOPYvKY01TgpALSNRMxeSCC1HKnfwzgWFtaXne4uUHpMcCed/mI7McC/tnQgvCD9f8B\n",
    "asTfjWML4COrwmBZ0l1R2/NWr1NNBXrww7+jIq/t+DO/GUjX/wbu/3IjGAdsIPMAwA6+/F64vwZm\n",
    "H44QAOjLQpF+8p7w1AYWUMlUoCWcu9hLEWZifNfQbAAXVvA5h7THq8bBrgKwZEesfPPRpcpDHxtm\n",
    "NufDb3z5v4bZmQD+cSMS0IUCWkvr+lG8wfcI0tFMJzvRtD+FrRgRuM+Tzt7/EOWaZZidBc//3pZW\n",
    "NrRF7XHDPADwm47ZBPeTYHYGzH5izdoc2x9iP1xq7RDUIiagqc3Zm0YpwGGCW30cINoOFZLvIaWP\n",
    "w/Ov25bl+XtlNmQ8rpjH4Te+fADwZri/A8DhAPbYSdvU5AHS1ETtmyQmNOkFTTMhGNCFGLw2Kh7+\n",
    "ZQC/hewftSNW7lp7xRszHpfM0+E3vOSJsHQ4zI6C+4uR8xEw7BMJaIYE829GjpeX1oCeGsgsjVbY\n",
    "yeSUvg/3GwFcC7NrMY7XArjJjljx3Sxxw8bjnnnz4dcdnWA4GJZ+GsD+yHlfmG0GsBmeNwPYF47N\n",
    "SGkzxtXN1UfdDUv3IOe7Ybgb7vfUdNY9MLsbwF8j588DuMkO/9PV3d3/8TT+P2x6AX5Riia7AAAA\n",
    "AElFTkSuQmCC\n",
    "\"\n",
    "     style=\"display:block;margin:auto;width:10%\"/>\n",
    "<br>\n",
    "\n",
    "<div style=\"text-align:center; font-size:200%;\">\n",
    " <b>Vorbereiten der MNIST Daten</b>\n",
    "</div>\n",
    "<br/>\n",
    "<div style=\"text-align:center;\">Dr. Matthias Hölzl</div>\n",
    "<br/>\n",
    "<!-- 07 Vorbereiten der MNIST Daten.ipynb -->\n",
    "<!-- python_courses/slides/module_700_ml_basics/topic_132_mnist_prep.py -->"
   ]
  },
  {
   "cell_type": "markdown",
   "id": "373979724841fdef",
   "metadata": {
    "lang": "de",
    "slideshow": {
     "slide_type": "subslide"
    },
    "tags": [
     "subslide"
    ]
   },
   "source": [
    "\n",
    "## Vorbereitungen"
   ]
  },
  {
   "cell_type": "code",
   "execution_count": null,
   "id": "8ebdbe73cbae2d7e",
   "metadata": {
    "tags": [
     "keep"
    ]
   },
   "outputs": [],
   "source": [
    "try:\n",
    "    from python_courses.envconfig import EnvConfig\n",
    "except ModuleNotFoundError:\n",
    "    from envconfig import EnvConfig  # noqa"
   ]
  },
  {
   "cell_type": "code",
   "execution_count": null,
   "id": "9c0e2ebbe685ef82",
   "metadata": {
    "tags": [
     "keep"
    ]
   },
   "outputs": [],
   "source": [
    "config = EnvConfig()"
   ]
  },
  {
   "cell_type": "code",
   "execution_count": null,
   "id": "28c25ea6c7eb9b32",
   "metadata": {
    "tags": [
     "keep"
    ]
   },
   "outputs": [],
   "source": [
    "import pickle\n",
    "from textwrap import wrap  # noqa"
   ]
  },
  {
   "cell_type": "code",
   "execution_count": null,
   "id": "cdea52c59fb0bdd7",
   "metadata": {
    "tags": [
     "keep"
    ]
   },
   "outputs": [],
   "source": [
    "def print_wrapped(text: str):\n",
    "    for paragraph in text.split(\"\\n\"):\n",
    "        print(\"\\n\".join(wrap(paragraph)))"
   ]
  },
  {
   "cell_type": "markdown",
   "id": "e24dca9674b3044c",
   "metadata": {
    "lang": "de",
    "slideshow": {
     "slide_type": "subslide"
    },
    "tags": [
     "subslide"
    ]
   },
   "source": [
    "\n",
    "## Laden der MNIST-Daten"
   ]
  },
  {
   "cell_type": "code",
   "execution_count": null,
   "id": "9cea2e2ad8c548f2",
   "metadata": {},
   "outputs": [],
   "source": [
    "import numpy as np\n",
    "import matplotlib.pyplot as plt"
   ]
  },
  {
   "cell_type": "code",
   "execution_count": null,
   "id": "5cd02bf16cefe297",
   "metadata": {},
   "outputs": [],
   "source": [
    "with open(config.mnist_pkl_path, \"rb\") as file:\n",
    "    mnist = pickle.load(file)"
   ]
  },
  {
   "cell_type": "markdown",
   "id": "3dc2c57bc5388852",
   "metadata": {
    "lang": "de",
    "slideshow": {
     "slide_type": "slide"
    },
    "tags": [
     "slide"
    ]
   },
   "source": [
    "\n",
    "## Analysieren der Daten\n",
    "\n",
    "Der Wert in `mnist` ist ein scikit-learn `Bunch`. Das ist ein Typ, der ähnlich zu\n",
    "einem Dictionary ist, aber Einträge können mit den beiden (äquivalenten)\n",
    "Syntax-Varianten `bunch[\"key\"]` und `bunch.key` gelesen und geschrieben werden."
   ]
  },
  {
   "cell_type": "code",
   "execution_count": null,
   "id": "6f41e6451c08c2ee",
   "metadata": {},
   "outputs": [],
   "source": [
    "type(mnist)"
   ]
  },
  {
   "cell_type": "code",
   "execution_count": null,
   "id": "53b0d01ca9a62496",
   "metadata": {
    "slideshow": {
     "slide_type": "subslide"
    },
    "tags": [
     "subslide",
     "keep"
    ]
   },
   "outputs": [],
   "source": [
    "from sklearn.utils import Bunch"
   ]
  },
  {
   "cell_type": "code",
   "execution_count": null,
   "id": "cffdf029ab48b650",
   "metadata": {},
   "outputs": [],
   "source": [
    "my_bunch = Bunch()"
   ]
  },
  {
   "cell_type": "code",
   "execution_count": null,
   "id": "8e7874f2562914f1",
   "metadata": {},
   "outputs": [],
   "source": [
    "my_bunch[\"my_key\"] = 123"
   ]
  },
  {
   "cell_type": "code",
   "execution_count": null,
   "id": "e6899c96969edb69",
   "metadata": {},
   "outputs": [],
   "source": [
    "my_bunch[\"my_key\"]"
   ]
  },
  {
   "cell_type": "code",
   "execution_count": null,
   "id": "c9f67ca7e9e84e45",
   "metadata": {},
   "outputs": [],
   "source": [
    "my_bunch.keys()"
   ]
  },
  {
   "cell_type": "code",
   "execution_count": null,
   "id": "0cc47cca9e1a46f4",
   "metadata": {
    "slideshow": {
     "slide_type": "subslide"
    },
    "tags": [
     "subslide"
    ]
   },
   "outputs": [],
   "source": [
    "my_bunch.my_key"
   ]
  },
  {
   "cell_type": "code",
   "execution_count": null,
   "id": "9510ac6510244120",
   "metadata": {},
   "outputs": [],
   "source": [
    "my_bunch.my_key = 234"
   ]
  },
  {
   "cell_type": "code",
   "execution_count": null,
   "id": "3876aa905731cfe8",
   "metadata": {},
   "outputs": [],
   "source": [
    "my_bunch.my_key"
   ]
  },
  {
   "cell_type": "code",
   "execution_count": null,
   "id": "1580f9ff1304f8fa",
   "metadata": {},
   "outputs": [],
   "source": [
    "my_bunch[\"my_key\"]"
   ]
  },
  {
   "cell_type": "code",
   "execution_count": null,
   "id": "5d676635587db9c2",
   "metadata": {
    "slideshow": {
     "slide_type": "subslide"
    },
    "tags": [
     "subslide"
    ]
   },
   "outputs": [],
   "source": [
    "mnist.keys()"
   ]
  },
  {
   "cell_type": "code",
   "execution_count": null,
   "id": "92e143e8ce474c90",
   "metadata": {},
   "outputs": [],
   "source": [
    "print_wrapped(mnist[\"DESCR\"])"
   ]
  },
  {
   "cell_type": "code",
   "execution_count": null,
   "id": "eec77d7d9e256549",
   "metadata": {},
   "outputs": [],
   "source": [
    "mnist.details"
   ]
  },
  {
   "cell_type": "markdown",
   "id": "ac79d6b31654575b",
   "metadata": {
    "lang": "de",
    "slideshow": {
     "slide_type": "subslide"
    },
    "tags": [
     "subslide"
    ]
   },
   "source": [
    "\n",
    "### Analysieren von `data` und `target`"
   ]
  },
  {
   "cell_type": "code",
   "execution_count": null,
   "id": "57cafb41052ac144",
   "metadata": {},
   "outputs": [],
   "source": [
    "type(mnist.data)"
   ]
  },
  {
   "cell_type": "code",
   "execution_count": null,
   "id": "47d492ac96a06eb0",
   "metadata": {},
   "outputs": [],
   "source": [
    "mnist.data.shape"
   ]
  },
  {
   "cell_type": "code",
   "execution_count": null,
   "id": "9cfce00030419db6",
   "metadata": {},
   "outputs": [],
   "source": [
    "type(mnist.target)"
   ]
  },
  {
   "cell_type": "code",
   "execution_count": null,
   "id": "0b8983dc41241c69",
   "metadata": {},
   "outputs": [],
   "source": [
    "mnist.target.shape"
   ]
  },
  {
   "cell_type": "markdown",
   "id": "7c961aecf1f31431",
   "metadata": {
    "lang": "de",
    "slideshow": {
     "slide_type": "subslide"
    },
    "tags": [
     "subslide"
    ]
   },
   "source": [
    "\n",
    "### Verwenden der geläufigen Variablennamen"
   ]
  },
  {
   "cell_type": "code",
   "execution_count": null,
   "id": "9b03b5e3318f74ce",
   "metadata": {},
   "outputs": [],
   "source": [
    "X, y = mnist.data, mnist.target  # noqa"
   ]
  },
  {
   "cell_type": "code",
   "execution_count": null,
   "id": "4cdeac359490aca0",
   "metadata": {},
   "outputs": [],
   "source": [
    "type(X)"
   ]
  },
  {
   "cell_type": "code",
   "execution_count": null,
   "id": "8d9784428e3d47d2",
   "metadata": {},
   "outputs": [],
   "source": [
    "type(y)"
   ]
  },
  {
   "cell_type": "markdown",
   "id": "770f05688c134d1d",
   "metadata": {
    "lang": "de",
    "slideshow": {
     "slide_type": "subslide"
    },
    "tags": [
     "subslide"
    ]
   },
   "source": [
    "\n",
    "### Umwandeln in Numpy Arrays"
   ]
  },
  {
   "cell_type": "code",
   "execution_count": null,
   "id": "ce38b24458541507",
   "metadata": {},
   "outputs": [],
   "source": [
    "X = X.to_numpy()\n",
    "y = y.to_numpy()"
   ]
  },
  {
   "cell_type": "code",
   "execution_count": null,
   "id": "025ce0f5aac0aa90",
   "metadata": {},
   "outputs": [],
   "source": [
    "type(X)"
   ]
  },
  {
   "cell_type": "code",
   "execution_count": null,
   "id": "fd4357d0217ad5ae",
   "metadata": {},
   "outputs": [],
   "source": [
    "type(y)"
   ]
  },
  {
   "cell_type": "code",
   "execution_count": null,
   "id": "cf91f4e92969c0f1",
   "metadata": {},
   "outputs": [],
   "source": [
    "X.shape"
   ]
  },
  {
   "cell_type": "code",
   "execution_count": null,
   "id": "35455c5850e66f11",
   "metadata": {},
   "outputs": [],
   "source": [
    "y.shape"
   ]
  },
  {
   "cell_type": "code",
   "execution_count": null,
   "id": "edde80af360c0501",
   "metadata": {},
   "outputs": [],
   "source": [
    "X.dtype"
   ]
  },
  {
   "cell_type": "code",
   "execution_count": null,
   "id": "94e96306c3553f80",
   "metadata": {},
   "outputs": [],
   "source": [
    "y.dtype"
   ]
  },
  {
   "cell_type": "markdown",
   "id": "bb8e9e0770805142",
   "metadata": {
    "lang": "de",
    "slideshow": {
     "slide_type": "subslide"
    },
    "tags": [
     "subslide"
    ]
   },
   "source": [
    "\n",
    "### Analysieren des Wertebereichs"
   ]
  },
  {
   "cell_type": "code",
   "execution_count": null,
   "id": "98bd61256e3e7368",
   "metadata": {},
   "outputs": [],
   "source": [
    "np.min(X)"
   ]
  },
  {
   "cell_type": "code",
   "execution_count": null,
   "id": "f7b6296d8e77b6e2",
   "metadata": {},
   "outputs": [],
   "source": [
    "np.max(X)"
   ]
  },
  {
   "cell_type": "code",
   "execution_count": null,
   "id": "ab4d7314904a10aa",
   "metadata": {},
   "outputs": [],
   "source": [
    "np.min(y)"
   ]
  },
  {
   "cell_type": "code",
   "execution_count": null,
   "id": "da1354c0581db8d6",
   "metadata": {},
   "outputs": [],
   "source": [
    "np.max(y)"
   ]
  },
  {
   "cell_type": "markdown",
   "id": "877c567eb59b295b",
   "metadata": {
    "lang": "de",
    "slideshow": {
     "slide_type": "subslide"
    },
    "tags": [
     "subslide"
    ]
   },
   "source": [
    "\n",
    "### Analysieren einzelner Einträge"
   ]
  },
  {
   "cell_type": "code",
   "execution_count": null,
   "id": "85f724dca15e2a4a",
   "metadata": {},
   "outputs": [],
   "source": [
    "first_number = X[0]\n",
    "second_number = X[1]"
   ]
  },
  {
   "cell_type": "code",
   "execution_count": null,
   "id": "9d10b70d4c664d49",
   "metadata": {},
   "outputs": [],
   "source": [
    "type(first_number)"
   ]
  },
  {
   "cell_type": "code",
   "execution_count": null,
   "id": "2e463a570ed8f748",
   "metadata": {},
   "outputs": [],
   "source": [
    "first_number.shape"
   ]
  },
  {
   "cell_type": "markdown",
   "id": "caf329d01e9a3e8d",
   "metadata": {
    "lang": "de",
    "slideshow": {
     "slide_type": "subslide"
    },
    "tags": [
     "subslide"
    ]
   },
   "source": [
    "\n",
    "### Umwandeln in Bilder"
   ]
  },
  {
   "cell_type": "code",
   "execution_count": null,
   "id": "76148c685405f919",
   "metadata": {},
   "outputs": [],
   "source": [
    "first_number_image = first_number.reshape(28, 28)\n",
    "second_number_image = second_number.reshape(28, 28)"
   ]
  },
  {
   "cell_type": "code",
   "execution_count": null,
   "id": "4f69fce85156cf85",
   "metadata": {},
   "outputs": [],
   "source": [
    "first_number_image.shape"
   ]
  },
  {
   "cell_type": "markdown",
   "id": "bf95e0926ea8d906",
   "metadata": {
    "lang": "de",
    "slideshow": {
     "slide_type": "subslide"
    },
    "tags": [
     "subslide"
    ]
   },
   "source": [
    "\n",
    "### Anzeigen der Bilder"
   ]
  },
  {
   "cell_type": "code",
   "execution_count": null,
   "id": "a07676516b95bcfa",
   "metadata": {},
   "outputs": [],
   "source": [
    "plt.imshow(first_number_image, cmap=\"binary\")\n",
    "plt.show()"
   ]
  },
  {
   "cell_type": "code",
   "execution_count": null,
   "id": "697b83ea8440d17b",
   "metadata": {},
   "outputs": [],
   "source": [
    "plt.imshow(second_number_image, cmap=\"binary\")\n",
    "plt.show()"
   ]
  },
  {
   "cell_type": "code",
   "execution_count": null,
   "id": "75f411f1503738d8",
   "metadata": {
    "slideshow": {
     "slide_type": "subslide"
    },
    "tags": [
     "subslide"
    ]
   },
   "outputs": [],
   "source": [
    "fig, axes = plt.subplots(10, 10)\n",
    "for idx, ax in enumerate(np.array(axes).ravel()):\n",
    "    ax.imshow(X[idx].reshape(28, 28), cmap=\"binary\")\n",
    "    ax.set_xticks([], [])\n",
    "    ax.set_yticks([], [])\n",
    "plt.show()"
   ]
  },
  {
   "cell_type": "markdown",
   "id": "0bf3072f37d873fe",
   "metadata": {
    "lang": "de",
    "slideshow": {
     "slide_type": "subslide"
    },
    "tags": [
     "subslide"
    ]
   },
   "source": [
    "\n",
    "### Umwandeln der Klassen in Zahlen"
   ]
  },
  {
   "cell_type": "code",
   "execution_count": null,
   "id": "1f71c3a55fc803ea",
   "metadata": {},
   "outputs": [],
   "source": [
    "y[:2]"
   ]
  },
  {
   "cell_type": "code",
   "execution_count": null,
   "id": "238c2204da632999",
   "metadata": {},
   "outputs": [],
   "source": [
    "y = y.astype(np.int32)"
   ]
  },
  {
   "cell_type": "code",
   "execution_count": null,
   "id": "49c83e6464d70fcd",
   "metadata": {},
   "outputs": [],
   "source": [
    "y[:2]"
   ]
  },
  {
   "cell_type": "markdown",
   "id": "2d86300b8d614f45",
   "metadata": {
    "lang": "de",
    "slideshow": {
     "slide_type": "subslide"
    },
    "tags": [
     "subslide"
    ]
   },
   "source": [
    "\n",
    "### Die Zahl 7"
   ]
  },
  {
   "cell_type": "code",
   "execution_count": null,
   "id": "53214b4fd631d0f2",
   "metadata": {},
   "outputs": [],
   "source": [
    "first_index_of_7 = np.where(y == 7)[0][0]\n",
    "first_index_of_7"
   ]
  },
  {
   "cell_type": "code",
   "execution_count": null,
   "id": "45053b48a8e72754",
   "metadata": {},
   "outputs": [],
   "source": [
    "plt.imshow(X[first_index_of_7].reshape(28, 28), cmap=\"binary\")\n",
    "plt.show()"
   ]
  },
  {
   "cell_type": "markdown",
   "id": "27a4ce977410f474",
   "metadata": {
    "lang": "de",
    "slideshow": {
     "slide_type": "subslide"
    },
    "tags": [
     "subslide"
    ]
   },
   "source": [
    "\n",
    "### Aufspalten in Trainings- und Test-Set"
   ]
  },
  {
   "cell_type": "code",
   "execution_count": null,
   "id": "528637fa2bc9cc30",
   "metadata": {},
   "outputs": [],
   "source": [
    "x_train, x_test = X[:60_000], X[60_000:]"
   ]
  },
  {
   "cell_type": "code",
   "execution_count": null,
   "id": "f950f12c7d2c7c48",
   "metadata": {},
   "outputs": [],
   "source": [
    "y_train, y_test = y[:60_000], y[60_000:]"
   ]
  },
  {
   "cell_type": "markdown",
   "id": "870af4e615fac1b9",
   "metadata": {
    "lang": "de",
    "slideshow": {
     "slide_type": "subslide"
    },
    "tags": [
     "subslide"
    ]
   },
   "source": [
    "\n",
    "### Exportieren der Daten"
   ]
  },
  {
   "cell_type": "code",
   "execution_count": null,
   "id": "3913b77599dcce04",
   "metadata": {},
   "outputs": [],
   "source": [
    "processed_mnist_data = {\n",
    "    \"x_train\": x_train,\n",
    "    \"x_test\": x_test,\n",
    "    \"y_train\": y_train,\n",
    "    \"y_test\": y_test,\n",
    "}"
   ]
  },
  {
   "cell_type": "code",
   "execution_count": null,
   "id": "e3e1b0236af7a164",
   "metadata": {},
   "outputs": [],
   "source": [
    "with open(config.processed_mnist_pkl_path, \"wb\") as mnist_file:\n",
    "    pickle.dump(processed_mnist_data, mnist_file)"
   ]
  },
  {
   "cell_type": "markdown",
   "id": "1bfb7cbbce5c751a",
   "metadata": {
    "lang": "de",
    "slideshow": {
     "slide_type": "subslide"
    },
    "tags": [
     "subslide"
    ]
   },
   "source": [
    "\n",
    "Exkurs: Vergleich von Listen und Numpy Arrays"
   ]
  },
  {
   "cell_type": "code",
   "execution_count": null,
   "id": "30f9c4d7eb9d7009",
   "metadata": {},
   "outputs": [],
   "source": [
    "[1, 2, 3] == [1, 3, 3]  # noqa: B015"
   ]
  },
  {
   "cell_type": "code",
   "execution_count": null,
   "id": "0775239f38ea18a1",
   "metadata": {},
   "outputs": [],
   "source": [
    "np.array([1, 2, 3]) == np.array([1, 3, 3])  # noqa: B015"
   ]
  },
  {
   "cell_type": "code",
   "execution_count": null,
   "id": "f069aaf2f17b2942",
   "metadata": {},
   "outputs": [],
   "source": [
    "(np.array([1, 2, 3]) == np.array([1, 3, 3])).all()"
   ]
  },
  {
   "cell_type": "code",
   "execution_count": null,
   "id": "c078aef26513d5c6",
   "metadata": {},
   "outputs": [],
   "source": [
    "(np.array([1, 2, 3]) == np.array([1, 2, 3])).all()"
   ]
  },
  {
   "cell_type": "markdown",
   "id": "5efe5c8d0a2770c0",
   "metadata": {
    "lang": "de",
    "slideshow": {
     "slide_type": "subslide"
    },
    "tags": [
     "subslide"
    ]
   },
   "source": [
    "\n",
    "### Sanity Checks"
   ]
  },
  {
   "cell_type": "code",
   "execution_count": null,
   "id": "f98938da85fe5471",
   "metadata": {},
   "outputs": [],
   "source": [
    "with open(config.processed_mnist_pkl_path, \"rb\") as mnist_file:\n",
    "    loaded_mnist_data = pickle.load(mnist_file)"
   ]
  },
  {
   "cell_type": "code",
   "execution_count": null,
   "id": "826221c55477e61d",
   "metadata": {},
   "outputs": [],
   "source": [
    "assert (loaded_mnist_data[\"x_test\"] == x_test).all()  # noqa\n",
    "assert (loaded_mnist_data[\"x_train\"] == x_train).all()  # noqa\n",
    "assert (loaded_mnist_data[\"y_test\"] == y_test).all()  # noqa\n",
    "assert (loaded_mnist_data[\"y_train\"] == y_train).all()  # noqa"
   ]
  },
  {
   "cell_type": "code",
   "execution_count": null,
   "id": "33f2d0b0bf67a105",
   "metadata": {},
   "outputs": [],
   "source": [
    "print(\"\\nPrepared MNIST data!\")"
   ]
  },
  {
   "cell_type": "markdown",
   "id": "8ab94d1fa309c48a",
   "metadata": {
    "lang": "de",
    "slideshow": {
     "slide_type": "slide"
    },
    "tags": [
     "slide"
    ]
   },
   "source": [
    "\n",
    "## Workshop: Vorbereiten der Fashion-MNIST Daten\n",
    "\n",
    "Bereiten Sie die Fashion-MNIST Daten für Machine-Learning Algorithmen vor:\n",
    "\n",
    "- Laden Sie die in einem vorhergehenden Workshop gespeicherte Pickle-Datei.\n",
    "- Analysieren Sie das Format der wichtigsten Attribute.\n",
    "- Konvertieren Sie die beiden Attribute in Numpy Arrays und speichern Sie die\n",
    "  Resultate in Variablen `X` und `y`.\n",
    "- Lassen Sie sich Bilder der ersten Einträge in `X` anzeigen.\n",
    "- Konvertieren Sie die Werte in `y` in `int`-Werte.\n",
    "- Teilen Sie die Daten in Trainings- und Test-Daten auf.\n",
    "- Speichern Sie die bearbeiteten Daten."
   ]
  },
  {
   "cell_type": "code",
   "execution_count": null,
   "id": "fe7e53d266d7926f",
   "metadata": {
    "slideshow": {
     "slide_type": "subslide"
    },
    "tags": [
     "subslide",
     "keep"
    ]
   },
   "outputs": [],
   "source": [
    "try:  # noqa\n",
    "    from python_courses.envconfig import EnvConfig\n",
    "except ModuleNotFoundError:\n",
    "    from envconfig import EnvConfig  # noqa"
   ]
  },
  {
   "cell_type": "code",
   "execution_count": null,
   "id": "0c9990adee8edf30",
   "metadata": {
    "tags": [
     "keep"
    ]
   },
   "outputs": [],
   "source": [
    "from textwrap import wrap"
   ]
  },
  {
   "cell_type": "code",
   "execution_count": null,
   "id": "6841e40d089db707",
   "metadata": {
    "tags": [
     "keep"
    ]
   },
   "outputs": [],
   "source": [
    "config = EnvConfig()"
   ]
  },
  {
   "cell_type": "code",
   "execution_count": null,
   "id": "351cf254cdd94608",
   "metadata": {
    "lines_to_next_cell": 2,
    "tags": [
     "keep"
    ]
   },
   "outputs": [],
   "source": [
    "def print_wrapped(text: str):\n",
    "    for paragraph in text.split(\"\\n\"):\n",
    "        print(\"\\n\".join(wrap(paragraph)))"
   ]
  },
  {
   "cell_type": "markdown",
   "id": "fb8377a708d3a016",
   "metadata": {
    "lang": "de",
    "lines_to_next_cell": 2,
    "slideshow": {
     "slide_type": "subslide"
    },
    "tags": [
     "subslide"
    ]
   },
   "source": [
    "\n",
    "- Laden Sie die in einem vorhergehenden Workshop gespeicherte Pickle-Datei."
   ]
  },
  {
   "cell_type": "code",
   "execution_count": null,
   "id": "e807e084a8b3a482",
   "metadata": {},
   "outputs": [],
   "source": [
    "import pickle"
   ]
  },
  {
   "cell_type": "code",
   "execution_count": null,
   "id": "0ac1061b47dc4db3",
   "metadata": {},
   "outputs": [],
   "source": [
    "with open(config.fashion_mnist_pkl_path, \"rb\") as file:\n",
    "    fashion_mnist = pickle.load(file)"
   ]
  },
  {
   "cell_type": "markdown",
   "id": "bb602b9cfaeb542d",
   "metadata": {
    "lang": "de",
    "slideshow": {
     "slide_type": "subslide"
    },
    "tags": [
     "subslide"
    ]
   },
   "source": [
    "\n",
    "- Analysieren Sie den Typ und die Keys des geladenen Objekts\n",
    "- Analysieren Sie das Format der `data`- und `target`-Attribute.\n",
    "- Lassen Sie sich die Beschreibung im `DESCR`-Attribut anzeigen."
   ]
  },
  {
   "cell_type": "code",
   "execution_count": null,
   "id": "24d413e6fbcf41ee",
   "metadata": {
    "slideshow": {
     "slide_type": "subslide"
    },
    "tags": [
     "subslide"
    ]
   },
   "outputs": [],
   "source": [
    "type(fashion_mnist)"
   ]
  },
  {
   "cell_type": "code",
   "execution_count": null,
   "id": "9a309c8f3e8ccd66",
   "metadata": {},
   "outputs": [],
   "source": [
    "fashion_mnist.keys()"
   ]
  },
  {
   "cell_type": "code",
   "execution_count": null,
   "id": "9debdfb2cebf9cab",
   "metadata": {},
   "outputs": [],
   "source": [
    "type(fashion_mnist.data)"
   ]
  },
  {
   "cell_type": "code",
   "execution_count": null,
   "id": "8b2d1a4536bc53fc",
   "metadata": {},
   "outputs": [],
   "source": [
    "fashion_mnist.data.shape"
   ]
  },
  {
   "cell_type": "code",
   "execution_count": null,
   "id": "71d0361b6ca3202e",
   "metadata": {},
   "outputs": [],
   "source": [
    "type(fashion_mnist.target)"
   ]
  },
  {
   "cell_type": "code",
   "execution_count": null,
   "id": "cc455686d0d15843",
   "metadata": {},
   "outputs": [],
   "source": [
    "fashion_mnist.target.shape"
   ]
  },
  {
   "cell_type": "code",
   "execution_count": null,
   "id": "a6ef14b4a68a3c9b",
   "metadata": {
    "slideshow": {
     "slide_type": "subslide"
    },
    "tags": [
     "subslide"
    ]
   },
   "outputs": [],
   "source": [
    "print_wrapped(fashion_mnist.DESCR)  # noqa"
   ]
  },
  {
   "cell_type": "markdown",
   "id": "859baaa96dce71f8",
   "metadata": {
    "lang": "de",
    "lines_to_next_cell": 2,
    "slideshow": {
     "slide_type": "subslide"
    },
    "tags": [
     "subslide"
    ]
   },
   "source": [
    "\n",
    "- Konvertieren Sie die beiden Attribute in Numpy Arrays und speichern Sie die\n",
    "  Resultate in Variablen `X` und `y`.\n",
    "- Analysieren Sie dir Form der erhaltenen Arrays und die Wertebereiche der Elemente."
   ]
  },
  {
   "cell_type": "code",
   "execution_count": null,
   "id": "4b7a4698242cccd9",
   "metadata": {},
   "outputs": [],
   "source": [
    "X, y = fashion_mnist.data, fashion_mnist.target"
   ]
  },
  {
   "cell_type": "code",
   "execution_count": null,
   "id": "77bde0feaf8a0d07",
   "metadata": {},
   "outputs": [],
   "source": [
    "type(X)"
   ]
  },
  {
   "cell_type": "code",
   "execution_count": null,
   "id": "43fd84d3369f18aa",
   "metadata": {},
   "outputs": [],
   "source": [
    "type(y)"
   ]
  },
  {
   "cell_type": "code",
   "execution_count": null,
   "id": "8d984690744393ce",
   "metadata": {},
   "outputs": [],
   "source": [
    "X = X.to_numpy()\n",
    "y = y.to_numpy()"
   ]
  },
  {
   "cell_type": "code",
   "execution_count": null,
   "id": "a39781308ddb31d4",
   "metadata": {
    "slideshow": {
     "slide_type": "subslide"
    },
    "tags": [
     "subslide"
    ]
   },
   "outputs": [],
   "source": [
    "type(X)"
   ]
  },
  {
   "cell_type": "code",
   "execution_count": null,
   "id": "c1aa912a5b01e59c",
   "metadata": {},
   "outputs": [],
   "source": [
    "type(y)"
   ]
  },
  {
   "cell_type": "code",
   "execution_count": null,
   "id": "2ddf76d21dcd9e93",
   "metadata": {},
   "outputs": [],
   "source": [
    "X.shape"
   ]
  },
  {
   "cell_type": "code",
   "execution_count": null,
   "id": "9d0d5a602deb7343",
   "metadata": {},
   "outputs": [],
   "source": [
    "y.shape"
   ]
  },
  {
   "cell_type": "code",
   "execution_count": null,
   "id": "e82120858ef2376a",
   "metadata": {},
   "outputs": [],
   "source": [
    "X.dtype"
   ]
  },
  {
   "cell_type": "code",
   "execution_count": null,
   "id": "d787fabf7f37d9b1",
   "metadata": {},
   "outputs": [],
   "source": [
    "y.dtype"
   ]
  },
  {
   "cell_type": "code",
   "execution_count": null,
   "id": "9189f60d213fe786",
   "metadata": {
    "slideshow": {
     "slide_type": "subslide"
    },
    "tags": [
     "subslide"
    ]
   },
   "outputs": [],
   "source": [
    "import numpy as np"
   ]
  },
  {
   "cell_type": "code",
   "execution_count": null,
   "id": "1bd943e2d0746fd9",
   "metadata": {},
   "outputs": [],
   "source": [
    "np.min(X)"
   ]
  },
  {
   "cell_type": "code",
   "execution_count": null,
   "id": "592a94ee7a619b02",
   "metadata": {},
   "outputs": [],
   "source": [
    "np.max(X)"
   ]
  },
  {
   "cell_type": "code",
   "execution_count": null,
   "id": "1a1216f890229c71",
   "metadata": {},
   "outputs": [],
   "source": [
    "np.min(y)"
   ]
  },
  {
   "cell_type": "code",
   "execution_count": null,
   "id": "3191bddf442080e3",
   "metadata": {},
   "outputs": [],
   "source": [
    "np.max(y)"
   ]
  },
  {
   "cell_type": "markdown",
   "id": "e7de4ee4633dbbdf",
   "metadata": {
    "lang": "de",
    "slideshow": {
     "slide_type": "slide"
    },
    "tags": [
     "slide"
    ]
   },
   "source": [
    "\n",
    "- Lassen Sie sich Bilder der ersten Einträge in `X` anzeigen."
   ]
  },
  {
   "cell_type": "code",
   "execution_count": null,
   "id": "9afb43cb6cfdd60c",
   "metadata": {},
   "outputs": [],
   "source": [
    "first_clothing_item = X[0]\n",
    "second_clothing_item = X[1]"
   ]
  },
  {
   "cell_type": "code",
   "execution_count": null,
   "id": "9b2e5f69b90cca03",
   "metadata": {},
   "outputs": [],
   "source": [
    "type(first_clothing_item)"
   ]
  },
  {
   "cell_type": "code",
   "execution_count": null,
   "id": "4246c45f5df43315",
   "metadata": {},
   "outputs": [],
   "source": [
    "first_clothing_item.shape"
   ]
  },
  {
   "cell_type": "code",
   "execution_count": null,
   "id": "5cd6c23644d6a387",
   "metadata": {
    "slideshow": {
     "slide_type": "subslide"
    },
    "tags": [
     "subslide"
    ]
   },
   "outputs": [],
   "source": [
    "first_clothing_item_image = first_clothing_item.reshape(28, 28)\n",
    "second_clothing_item_image = second_clothing_item.reshape(28, 28)"
   ]
  },
  {
   "cell_type": "code",
   "execution_count": null,
   "id": "66bae9ae1a31e06b",
   "metadata": {},
   "outputs": [],
   "source": [
    "first_clothing_item_image.shape"
   ]
  },
  {
   "cell_type": "code",
   "execution_count": null,
   "id": "b2169c37a252a357",
   "metadata": {
    "slideshow": {
     "slide_type": "subslide"
    },
    "tags": [
     "subslide"
    ]
   },
   "outputs": [],
   "source": [
    "import matplotlib.pyplot as plt"
   ]
  },
  {
   "cell_type": "code",
   "execution_count": null,
   "id": "4f92e125d0108fc3",
   "metadata": {},
   "outputs": [],
   "source": [
    "plt.imshow(first_clothing_item_image, cmap=\"binary\")\n",
    "plt.show()"
   ]
  },
  {
   "cell_type": "code",
   "execution_count": null,
   "id": "d2c81192b07dce1e",
   "metadata": {
    "slideshow": {
     "slide_type": "subslide"
    },
    "tags": [
     "subslide"
    ]
   },
   "outputs": [],
   "source": [
    "plt.imshow(second_clothing_item_image, cmap=\"binary\")\n",
    "plt.show()"
   ]
  },
  {
   "cell_type": "markdown",
   "id": "d1388cfa9367ec66",
   "metadata": {
    "lang": "de",
    "slideshow": {
     "slide_type": "slide"
    },
    "tags": [
     "slide"
    ]
   },
   "source": [
    "\n",
    "- Konvertieren Sie die Werte in `y` in `int`-Werte."
   ]
  },
  {
   "cell_type": "code",
   "execution_count": null,
   "id": "98f703d7abb8355e",
   "metadata": {},
   "outputs": [],
   "source": [
    "y[:2]"
   ]
  },
  {
   "cell_type": "code",
   "execution_count": null,
   "id": "5bd5551193a60388",
   "metadata": {},
   "outputs": [],
   "source": [
    "y = y.astype(np.int32)"
   ]
  },
  {
   "cell_type": "code",
   "execution_count": null,
   "id": "603472f6d1e443a8",
   "metadata": {},
   "outputs": [],
   "source": [
    "y[:2]"
   ]
  },
  {
   "cell_type": "markdown",
   "id": "7198d997381949da",
   "metadata": {
    "lang": "de",
    "slideshow": {
     "slide_type": "slide"
    },
    "tags": [
     "slide"
    ]
   },
   "source": [
    "\n",
    "- Teilen Sie die Daten in Trainings- und Test-Daten auf."
   ]
  },
  {
   "cell_type": "code",
   "execution_count": null,
   "id": "3567a85338784553",
   "metadata": {},
   "outputs": [],
   "source": [
    "x_train, x_test = X[:60_000], X[60_000:]  # noqa"
   ]
  },
  {
   "cell_type": "code",
   "execution_count": null,
   "id": "e21aacf3a240d628",
   "metadata": {},
   "outputs": [],
   "source": [
    "y_train, y_test = y[:60_000], y[60_000:]"
   ]
  },
  {
   "cell_type": "markdown",
   "id": "b9549e2da509c815",
   "metadata": {
    "lang": "de",
    "slideshow": {
     "slide_type": "slide"
    },
    "tags": [
     "slide"
    ]
   },
   "source": [
    "\n",
    "- Speichern Sie ein Dictionary mit den bearbeiteten Daten.\n",
    "- Überprüfen Sie, dass die richtigen Daten gespeichert wurden."
   ]
  },
  {
   "cell_type": "code",
   "execution_count": null,
   "id": "0ca0e42f17c10f0e",
   "metadata": {
    "slideshow": {
     "slide_type": "subslide"
    },
    "tags": [
     "subslide",
     "keep"
    ]
   },
   "outputs": [],
   "source": [
    "processed_fashion_mnist_data = {\n",
    "    \"x_train\": x_train,\n",
    "    \"x_test\": x_test,\n",
    "    \"y_train\": y_train,\n",
    "    \"y_test\": y_test,\n",
    "}"
   ]
  },
  {
   "cell_type": "code",
   "execution_count": null,
   "id": "d91fc9013da38e54",
   "metadata": {
    "slideshow": {
     "slide_type": "subslide"
    },
    "tags": [
     "subslide"
    ]
   },
   "outputs": [],
   "source": [
    "with open(config.processed_fashion_mnist_pkl_path, \"wb\") as fashion_mnist_file:\n",
    "    pickle.dump(processed_fashion_mnist_data, fashion_mnist_file)"
   ]
  },
  {
   "cell_type": "code",
   "execution_count": null,
   "id": "c2a2bebb625a96ce",
   "metadata": {},
   "outputs": [],
   "source": [
    "with open(config.processed_fashion_mnist_pkl_path, \"rb\") as fashion_mnist_file:\n",
    "    loaded_fashion_mnist_data = pickle.load(fashion_mnist_file)"
   ]
  },
  {
   "cell_type": "code",
   "execution_count": null,
   "id": "ccfa9bf6f244ace3",
   "metadata": {
    "slideshow": {
     "slide_type": "subslide"
    },
    "tags": [
     "subslide"
    ]
   },
   "outputs": [],
   "source": [
    "assert (loaded_fashion_mnist_data[\"x_test\"] == x_test).all()  # noqa\n",
    "assert (loaded_fashion_mnist_data[\"x_train\"] == x_train).all()  # noqa\n",
    "assert (loaded_fashion_mnist_data[\"y_test\"] == y_test).all()  # noqa\n",
    "assert (loaded_fashion_mnist_data[\"y_train\"] == y_train).all()  # noqa"
   ]
  },
  {
   "cell_type": "code",
   "execution_count": null,
   "id": "3584c360c1144a3a",
   "metadata": {
    "tags": [
     "keep"
    ]
   },
   "outputs": [],
   "source": [
    "print(\"\\n\\nDone!\")"
   ]
  }
 ],
 "metadata": {},
 "nbformat": 4,
 "nbformat_minor": 5
}
